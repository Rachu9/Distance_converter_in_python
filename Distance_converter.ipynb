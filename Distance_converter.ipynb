{
  "nbformat": 4,
  "nbformat_minor": 0,
  "metadata": {
    "colab": {
      "provenance": []
    },
    "kernelspec": {
      "name": "python3",
      "display_name": "Python 3"
    },
    "language_info": {
      "name": "python"
    }
  },
  "cells": [
    {
      "cell_type": "markdown",
      "source": [
        "Distance Converter using Python\n"
      ],
      "metadata": {
        "id": "KV6Rm77egmae"
      }
    },
    {
      "cell_type": "code",
      "source": [
        "distance=int(input(\"Enter the distance\"))\n",
        "units=input(\"Enter the units\")\n",
        "if units.lower()==\"km\":\n",
        "  miles=distance/1.609\n",
        "  print(f\"You have covered {miles}miles\")\n",
        "elif units.lower()==\"miles\":\n",
        "  km=distance*1.609\n",
        "  print(f\"You have covered {km}kilometres\")\n",
        "else:\n",
        "  print(\"Wrong units\")"
      ],
      "metadata": {
        "colab": {
          "base_uri": "https://localhost:8080/"
        },
        "id": "wPqITysOgr3Q",
        "outputId": "7a2f7dad-bdf7-4f6a-bcda-e11a06871155"
      },
      "execution_count": 7,
      "outputs": [
        {
          "output_type": "stream",
          "name": "stdout",
          "text": [
            "Enter the distance18\n",
            "Enter the unitsmiles\n",
            "You have covered 28.962kilometres\n"
          ]
        }
      ]
    }
  ]
}